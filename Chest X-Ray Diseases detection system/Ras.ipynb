{
 "cells": [
  {
   "cell_type": "code",
   "execution_count": 14,
   "id": "c8aafd5f",
   "metadata": {},
   "outputs": [
    {
     "name": "stdout",
     "output_type": "stream",
     "text": [
      "1/1 [==============================] - 2s 2s/step\n",
      "Atelectasis: 0.22159749269485474\n",
      "Cardiomegaly: 0.01766647957265377\n",
      "Effusion: 0.1511056274175644\n",
      "Infiltration: 0.023204173892736435\n",
      "Mass: 0.1838095337152481\n",
      "Nodule: 0.12675505876541138\n",
      "Pneumonia: 0.024781502783298492\n",
      "Pneumothorax: 0.47326481342315674\n",
      "Consolidation: 0.05655461177229881\n",
      "Edema: 0.08802130818367004\n",
      "Emphysema: 0.06542821228504181\n",
      "Fibrosis: 0.034803323447704315\n",
      "Pleural_Thickening: 0.23799732327461243\n"
     ]
    }
   ],
   "source": [
    "import cv2\n",
    "import numpy as np\n",
    "from tensorflow.keras.models import load_model\n",
    "from tensorflow.keras.preprocessing import image\n",
    "from tensorflow.keras.applications.densenet import preprocess_input\n",
    "\n",
    "# Load the pretrained DenseNet model\n",
    "model = load_model(\"D:/weights_best_final.hdf5\")\n",
    "\n",
    "# Define class labels for each disease\n",
    "class_labels = {\n",
    "    0: \"Atelectasis\",\n",
    "    1: \"Cardiomegaly\",\n",
    "    2: \"Effusion\",\n",
    "    3: \"Infiltration\",\n",
    "    4: \"Mass\",\n",
    "    5: \"Nodule\",\n",
    "    6: \"Pneumonia\",\n",
    "    7: \"Pneumothorax\",\n",
    "    8: \"Consolidation\",\n",
    "    9: \"Edema\",\n",
    "    10: \"Emphysema\",\n",
    "    11: \"Fibrosis\",\n",
    "    12: \"Pleural_Thickening\",\n",
    "    13: \"Hernia\"\n",
    "}\n",
    "\n",
    "# Function to preprocess image for model input\n",
    "def preprocess_image(img_path):\n",
    "    img = image.load_img(img_path, target_size=(320, 320))\n",
    "    img_array = image.img_to_array(img)\n",
    "    img_array = np.expand_dims(img_array, axis=0)\n",
    "    img_array = preprocess_input(img_array)\n",
    "    return img_array\n",
    "\n",
    "# Function to predict class label for each disease\n",
    "def predict_class(img_path):\n",
    "    img = preprocess_image(img_path)\n",
    "    predictions = model.predict(img)\n",
    "    result = {}\n",
    "    for i, prediction in enumerate(predictions[0]):\n",
    "        disease = class_labels[i]\n",
    "        confidence = prediction\n",
    "        result[disease] = confidence\n",
    "    return result\n",
    "\n",
    "# Path to the image\n",
    "img_path = \"D:/WhatsApp Image 2024-03-11 at 12.55.49_b33e74b2.jpg\"\n",
    "\n",
    "# Predict class labels for the image\n",
    "disease_predictions = predict_class(img_path)\n",
    "\n",
    "# Display predictions\n",
    "for disease, confidence in disease_predictions.items():\n",
    "    print(f\"{disease}: {confidence}\")\n"
   ]
  },
  {
   "cell_type": "code",
   "execution_count": 27,
   "id": "6d151273",
   "metadata": {},
   "outputs": [
    {
     "data": {
      "text/plain": [
       "{'Atelectasis': 0.2215975,\n",
       " 'Cardiomegaly': 0.01766648,\n",
       " 'Effusion': 0.15110563,\n",
       " 'Infiltration': 0.023204174,\n",
       " 'Mass': 0.18380953,\n",
       " 'Nodule': 0.12675506,\n",
       " 'Pneumonia': 0.024781503,\n",
       " 'Pneumothorax': 0.4732648,\n",
       " 'Consolidation': 0.05655461,\n",
       " 'Edema': 0.08802131,\n",
       " 'Emphysema': 0.06542821,\n",
       " 'Fibrosis': 0.034803323,\n",
       " 'Pleural_Thickening': 0.23799732}"
      ]
     },
     "execution_count": 27,
     "metadata": {},
     "output_type": "execute_result"
    }
   ],
   "source": [
    "disease_predictions"
   ]
  },
  {
   "cell_type": "code",
   "execution_count": null,
   "id": "87cc9456",
   "metadata": {},
   "outputs": [],
   "source": [
    "from keras.models import load_model\n",
    "\n",
    "model = load_model(\"G:/final_saved_models/chest_xray_model_small.h5\")"
   ]
  },
  {
   "cell_type": "code",
   "execution_count": null,
   "id": "95f9a1d1",
   "metadata": {},
   "outputs": [],
   "source": [
    "def load_image_normalize(path, mean, std, H=320, W=320):\n",
    "    x = image.load_img(path, target_size=(H, W))\n",
    "    x -= mean\n",
    "    x /= std\n",
    "    x = np.expand_dims(x, axis=0)\n",
    "    return x\n",
    "\n",
    "# Load mean and std for normalization\n",
    "mean, std = get_mean_std_per_batch(train_df)\n",
    "\n",
    "# Load the new image\n",
    "im_path = \"path_to_your_new_image.jpg\"\n",
    "processed_image = load_image_normalize(im_path, mean, std)\n"
   ]
  },
  {
   "cell_type": "code",
   "execution_count": null,
   "id": "4db547c6",
   "metadata": {},
   "outputs": [],
   "source": [
    "labels = ['Cardiomegaly', 'Emphysema', 'Effusion', 'Hernia', 'Infiltration', 'Mass', 'Nodule', 'Atelectasis',\n",
    "          'Pneumothorax', 'Pleural_Thickening', 'Pneumonia', 'Fibrosis', 'Edema', 'Consolidation']\n",
    "\n",
    "# Perform prediction\n",
    "predictions = model.predict(processed_image)\n",
    "\n",
    "# Create a DataFrame for better visualization\n",
    "pred_df = pd.DataFrame(predictions, columns=labels)\n",
    "\n",
    "# Plot the predictions (if needed)\n",
    "pred_df.loc[0, :].plot.bar()\n",
    "plt.title(\"Predictions\")\n",
    "plt.savefig('predictions.png')\n",
    "plt.show()\n",
    "\n",
    "# Output predictions\n",
    "print(pred_df)\n"
   ]
  },
  {
   "cell_type": "code",
   "execution_count": null,
   "id": "919b192c",
   "metadata": {},
   "outputs": [],
   "source": []
  }
 ],
 "metadata": {
  "kernelspec": {
   "display_name": "Python 3 (ipykernel)",
   "language": "python",
   "name": "python3"
  },
  "language_info": {
   "codemirror_mode": {
    "name": "ipython",
    "version": 3
   },
   "file_extension": ".py",
   "mimetype": "text/x-python",
   "name": "python",
   "nbconvert_exporter": "python",
   "pygments_lexer": "ipython3",
   "version": "3.9.12"
  }
 },
 "nbformat": 4,
 "nbformat_minor": 5
}
